{
 "cells": [
  {
   "cell_type": "markdown",
   "metadata": {},
   "source": [
    "# **Databases**\n",
    "Any collection of related information that can be stored in different ways\n",
    "\n",
    "## **Database Management System (DBMS)**\n",
    "A special software program that helps users create, maintain and secure a database on a computer.\n",
    "- Makes is easy to manage large amounts of information\n",
    "- Handles security; access control to access data\n",
    "- Backup\n",
    "- Importing/exporting data\n",
    "- Concurrency\n",
    "- Interacts with sofwtare applications: programming languages\n",
    "\n",
    "***DBMS isn't the database, it's the software system that is creating, maintaining, deleting information from the actual database.***\n",
    "\n",
    "## **C.R.U.D** \n",
    "\n",
    "**Create Read/Retrieve Update Delete**\n",
    "\n",
    "Represents the 4 main operations you are doing with a database\n",
    "\n",
    "- Creating information from the database\n",
    "- Reading/Retrieving information from database\n",
    "- Updating existing information\n",
    "- Deleting information that is in the database\n",
    "\n",
    "## **Types of Databases**\n",
    "**1. Relational Databases (SQL)**\n",
    "\n",
    "*Use SQL and store data in tables with rows and columns*\n",
    "\n",
    "Organizes data into one or more tables\n",
    " - Each table has columns and rows\n",
    " - A unique key identifies each row\n",
    "\n",
    "Most popular type of databases.\n",
    "\n",
    "Information is organised in this predefined tables. Looks like an excel spreadsheet\n",
    "\n",
    "**2. Non-Relational Databases (noSQL / not just SQL)**\n",
    "\n",
    "*Store data using other data structures*\n",
    "\n",
    "Any type of database that is not a relational database. i.e:\n",
    " - Key-value stores/hash (sting, JSON, BLOB, etc)\n",
    " - Documents (JSON, XML etc)\n",
    " - Graphs (Relational nodes)\n",
    " - Flexible Tables\n",
    "\n",
    "Anything that is not relational.\n",
    "\n",
    "\n",
    "### **Relational Databases (SQL)**\n",
    "Use a **Relational Database Management System (RDBMS)**; software program used to create and maintain a **relational database** i.e *MySQL Oracle, PostgreSQL, MariaDB* etc.\n",
    "\n",
    "RDBMS use Structured Query Language (SQL)\n",
    "- SQL is a standardized language for interacting with RDBMS\n",
    "\n",
    "We can use SQL to:\n",
    " - perform C.R.U.D operations, as well as other administrative tasks (user management, security, backup etc.)\n",
    " - define tables and structures; uses tables to organise information\n",
    "\n",
    "\n",
    " ### **Non Relational Databases (noSQL, not just SQL)**\n",
    " Stores information in anything but a static table.\n",
    "\n",
    "**Non-Relational Database Management Systems (NRDBMS)** help users to create and maintain a **non-relational database** i.e. *mongoDB, dynamoDB, apache cassandra, firebase, etc.* \n",
    "\n",
    "NRDBMS are implementaion specific:\n",
    "- There is not set language standard\n",
    "- Most NRDBMS implement their own language for performing C.R.U.D and administrative operations on the database\n",
    "\n",
    "\n",
    "\n"
   ]
  },
  {
   "cell_type": "markdown",
   "metadata": {},
   "source": [
    "# **Database Queries**\n",
    "**Asking the DBMS to give you some information** - Requests are made to the database management system for specific information \n",
    "\n",
    "## **Tables and Keys**\n",
    "Columns - Define as single atribute\n",
    "Row - Represents individual entry in a table\n",
    "\n",
    "**1. Primary Key** - Uniquely identifies a row in a table.\n",
    "\n",
    "Types of Primary Keys:\n",
    "\n",
    "- Surrogate Key: A key that has no mapping to anything in the real world\n",
    "\n",
    "- Natural Key: A key that has a mapping or has a purpose in the real world, not just in the database i.e ID Number, Social Security Number\n",
    "\n",
    "**2. Foreign Key** - An attribute we can store on a database table that will link us to another database table.\n",
    "\n",
    "A foreign keys stores the primary key of a row in another database table. It allows us to link up or define relationships between tables.\n",
    "\n",
    "Composite Key - A key made up of two columns, both of which are foreign keys that identify as primary key"
   ]
  },
  {
   "cell_type": "markdown",
   "metadata": {},
   "source": [
    "# **SQL Basics**\n",
    "SQL is a language for interacting with the RDBMS.\n",
    "\n",
    "SQL tells the RDBMS to perform the following:\n",
    "- Create, retrieve, update & delete data\n",
    "- Create & manage databses\n",
    "- Design & create databases tables\n",
    "- perform administration tasks (security, user management, import/export etc.)\n",
    "\n",
    "SQL is a hybrid language; 4 languages in 1\n",
    "- **Data Query Language;** Can be used to query the database for information & get information that is already stored in the database\n",
    "- **Data Definition Language;** Used to define database schemas\n",
    "- **Data Control Language;** Used or controlling access to the data in the databases, user and permissions management.\n",
    "- **Data Manipulation Language;** Used for inserting updating and deleing data from the databases\n"
   ]
  },
  {
   "cell_type": "markdown",
   "metadata": {},
   "source": [
    "# **Queries**\n",
    "Set of instructions given to the RDBMS that tell the RDBMS what information you want it to retrieve for you.\n",
    "\n",
    "The goal is to gather information that you need; only get the data that you need.\n",
    "\n",
    "> SELECT employee.name, employee.age\n",
    "\n",
    "> FROM employee\n",
    "\n",
    "> WHERE employee.salary > 30000;"
   ]
  },
  {
   "cell_type": "markdown",
   "metadata": {},
   "source": [
    "# **Installation**\n",
    "MySQL - RDBMS "
   ]
  },
  {
   "cell_type": "markdown",
   "metadata": {},
   "source": [
    "# **SQL COMMANDS**"
   ]
  },
  {
   "cell_type": "markdown",
   "metadata": {},
   "source": [
    "# **Creating Tables**\n",
    "**Basic data types in SQL**\n",
    "1. INT - whole numbers\n",
    "2. DECIMAL (M,N) - decimal numbers - exact value (M -total number of digits you want to store for the number , N - number of digits to store after the decimal point)\n",
    "3. VARCHAR(1) - string of text of length 1 (variable characte - maximum number of characters)\n",
    "4. BLOB  - binary large object, stores large data\n",
    "5. DATE - 'YYYY-MM-DD'\n",
    "6. TIMESTAMP - 'YYYY-MM-DD HH:MM:SS' "
   ]
  },
  {
   "cell_type": "markdown",
   "metadata": {},
   "source": [
    "Define row, data type\n",
    "\n",
    "> CREATE TABLE student (\n",
    "    student_id INT  PRIMARY KEY,\n",
    "    name VARCHAR(20), \n",
    "    major VARCHAR(20)\n",
    ");\n"
   ]
  },
  {
   "cell_type": "markdown",
   "metadata": {},
   "source": [
    "#### **Define primary key**\n",
    "> CREATE TABLE student (\n",
    "    student_id INT  PRIMARY KEY,\n",
    "    name VARCHAR(20), \n",
    "    major VARCHAR(20)\n",
    ");\n",
    "\n",
    "OR\n",
    "\n",
    "> CREATE TABLE student (\n",
    "    student_id INT,\n",
    "    name VARCHAR(20), \n",
    "    major VARCHAR(20),\n",
    "    PRIMARY KEY (student_id)\n",
    ");"
   ]
  },
  {
   "cell_type": "markdown",
   "metadata": {},
   "source": [
    "## **Describe a Table**\n",
    "Describes the table you have created\n",
    "\n",
    "> DESCRIBE student;\n"
   ]
  },
  {
   "cell_type": "markdown",
   "metadata": {},
   "source": [
    "## **Delete or Modify a Table**\n",
    "**Delete Table - Drops the table**\n",
    "> DROP TABLE student;\n",
    "\n",
    "**Alter specific column - add another column to table**\n",
    "> ALTER TABLE student ADD gpa DECIMAL(3,2); \n",
    "\n",
    "#Adding a gpa column, normally it has 3.03 hence 3 total digits, 2 digit appearing after decimal parameter\n",
    "\n",
    "**Drop a specific column from table**\n",
    "> ALTER TABLE student DROP COLUMN gpa; "
   ]
  },
  {
   "cell_type": "markdown",
   "metadata": {},
   "source": [
    "We can:\n",
    "- Create tables: Define all your database schema befoe inserting data into your table\n",
    "- Modify tables: Add columns to the table, Drop/ Remove columns and table"
   ]
  },
  {
   "cell_type": "markdown",
   "metadata": {},
   "source": [
    "# **Inserting Data into Database Tables**\n",
    "You cannot input duplicate entries."
   ]
  },
  {
   "cell_type": "markdown",
   "metadata": {},
   "source": [
    "> CREATE TABLE student (\n",
    "    student_id INT  PRIMARY KEY,\n",
    "    name VARCHAR(20), \n",
    "    major VARCHAR(20)\n",
    "    gpa DECIMAL(3,2)\n",
    ");"
   ]
  },
  {
   "cell_type": "markdown",
   "metadata": {},
   "source": [
    "> INSERT INTO student VALUES();\n",
    "\n",
    "**INSERT INTO the student table, the VALUES....**\n",
    "\n",
    "\n",
    "> INSERT INTO student VALUES(1, 'Jack', 'Biology');\n",
    "\n",
    "**Assuming there are attributes you do not have i.e major of student, you can specify column to input**\n",
    "> INSERT INTO student (student_id, name) VALUES(2, 'Kate')"
   ]
  },
  {
   "cell_type": "markdown",
   "metadata": {},
   "source": [
    "## **Constraints**\n",
    "Added to specific columns of the table.\n",
    "- NOT NULL\n",
    "- UNIQUE\n",
    "- DEFAULT\n",
    "- AUTO_INCREMENT\n"
   ]
  },
  {
   "cell_type": "markdown",
   "metadata": {},
   "source": [
    "**NOT NULL** and **UNIQUE** help control you to control data that is stored in the table.\n",
    "\n",
    "Primary Key is *Not Null* and *Unique*\n",
    "\n",
    "**NOT NULL**\n",
    "Defines that a particular column in a table cannot be null.\n",
    "\n",
    "> CREATE TABLE student (\n",
    "    student_id INT,\n",
    "    name VARCHAR(20) NOT NULL, \n",
    "    major VARCHAR(20),\n",
    "    PRIMARY KEY (student_id)\n",
    ");\n",
    "\n",
    "**UNIQUE**\n",
    "Has to be unique in each row of the table\n",
    "> CREATE TABLE student (\n",
    "    student_id INT,\n",
    "    name VARCHAR(20) NOT NULL, \n",
    "    major VARCHAR(20) UNIQUE,\n",
    "    PRIMARY KEY (student_id)\n",
    ");"
   ]
  },
  {
   "cell_type": "markdown",
   "metadata": {},
   "source": [
    "**DEFAULT** Setting default value\n",
    "> CREATE TABLE student (\n",
    "    student_id INT,\n",
    "    name VARCHAR(20), \n",
    "    major VARCHAR(20) DEFAULT 'undecided',\n",
    "    PRIMARY KEY (student_id)\n",
    ");  \n",
    "\n",
    "\n",
    "> INSERT INTO student VALUES(1, 'Jack', 'Biology');\n",
    "\n",
    "> INSERT INTO student VALUES(2, 'Kate', 'Sociology');\n",
    "\n",
    "> INSERT INTO student(student_id, name) VALUES(3, 'Claire');"
   ]
  },
  {
   "cell_type": "markdown",
   "metadata": {},
   "source": [
    "**AUTO_INCREMENT**\n",
    "Specfies that data entered will automatically be incremented every time you insert a new row.\n",
    "> CREATE TABLE student (\n",
    "    student_id INT AUTO_INCREMENT,\n",
    "    name VARCHAR(20), \n",
    "    major VARCHAR(20) DEFAULT 'Undecided',\n",
    "    PRIMARY KEY (student_id)\n",
    ");\n",
    "\n",
    "\n",
    ">INSERT INTO student(name, major) VALUES('Jack', 'Biology');\n",
    "\n",
    ">INSERT INTO student(name, major) VALUES('Kate', 'Sociology');\n",
    "\n",
    ">INSERT INTO student(name, major) VALUES('Claire', 'Chemistry');\n"
   ]
  },
  {
   "cell_type": "markdown",
   "metadata": {},
   "source": [
    "# **Update & Delete**\n",
    "Updating and deleting rows inside of a database table\n",
    "\n",
    "## **Update Statement**\n",
    "Used to update entries\n",
    "Example: change major from Biology to Bio\n",
    "> UPDATE student\n",
    "SET major = 'Bio'\n",
    "WHERE major = 'Biology';\n",
    "\n",
    "> UPDATE student\n",
    "SET major = 'Physics'\n",
    "WHERE student_id = 4;\n",
    "\n",
    "Example: Students who are Bio or Chemistry majors are not Biochemistry majors\n",
    "\n",
    "> UPDATE student\n",
    "SET major = 'Biochemisty'\n",
    "WHERE major = 'Bio' or major = 'Chemistry';\n",
    "\n",
    "### **Changing multiple columns within a query**\n",
    ">UPDATE student\n",
    "SET name = 'Tom', major = 'Undecided'\n",
    "WHERE student_id = 1;\n",
    "\n",
    "### **Updating all rows** - Remove WHERE\n",
    "> UPDATE student\n",
    "SET major = 'Undecided';\n"
   ]
  },
  {
   "cell_type": "markdown",
   "metadata": {},
   "source": [
    "## **Delete Statement**\n",
    "\n",
    "DELETE specific rows or group of rows from table\n",
    "\n",
    "**Delete all rows inside the tables**\n",
    "> DELETE FROM student;\n",
    "\n",
    "**Delete specific row**\n",
    "> DELETE FROM student\n",
    "WHERE student_id = 5;\n",
    "\n",
    ">DELETE FROM student\n",
    "WHERE name = 'Tom' AND major = 'Undecided';\n"
   ]
  },
  {
   "cell_type": "markdown",
   "metadata": {},
   "source": [
    "Other comparison operators\n",
    "- = :equals\n",
    "- <> : not equals\n",
    "- '> : greater than\n",
    "- < : less than\n",
    "- '>= :greater than or equal\n",
    "- <= : less than or equal "
   ]
  },
  {
   "cell_type": "markdown",
   "metadata": {},
   "source": [
    "# **Basic Queries**\n",
    "Query: asks database for a particular information"
   ]
  },
  {
   "cell_type": "markdown",
   "metadata": {},
   "source": [
    "**SELECT** Getting information from the database\n",
    "\n",
    "*SELECT * - Selects all information in the table\n",
    "> SELECT * \n",
    "\n",
    ">FROM student;\n",
    "\n",
    "**SELECT *column* FROM *table***\n",
    ">SELECT name\n",
    "\n",
    "> FROM student;\n",
    "\n",
    "**Selecting specific columns from table**\n",
    ">SELECT name, major\n",
    "\n",
    ">FROM student;\n"
   ]
  },
  {
   "cell_type": "markdown",
   "metadata": {},
   "source": [
    "> SELECT student.name, student.major\n",
    "\n",
    "> FROM student;"
   ]
  },
  {
   "cell_type": "markdown",
   "metadata": {},
   "source": [
    "**ORDERBY** Order information\n",
    "> SELECT student.name, student.major\n",
    "\n",
    "> FROM student\n",
    "\n",
    "> ORDER BY name;\n",
    "\n",
    "\n",
    "By default the ORDER BY is in ascending order. To convert to descending order, use DESC\n",
    "\n",
    "> SELECT student.name, student.major\n",
    "\n",
    "> FROM student\n",
    "\n",
    "> ORDER BY student_id DESC;"
   ]
  },
  {
   "cell_type": "markdown",
   "metadata": {},
   "source": []
  },
  {
   "cell_type": "markdown",
   "metadata": {},
   "source": []
  }
 ],
 "metadata": {
  "interpreter": {
   "hash": "4b49dac480128e3353893aae5d79bc0c223b3b150e1bd621885640ef2984f829"
  },
  "kernelspec": {
   "display_name": "Python 3.8.2 64-bit",
   "name": "python3"
  },
  "language_info": {
   "name": "python",
   "version": "3.8.2"
  },
  "orig_nbformat": 4
 },
 "nbformat": 4,
 "nbformat_minor": 2
}
