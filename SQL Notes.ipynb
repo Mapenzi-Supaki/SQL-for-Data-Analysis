{
 "cells": [
  {
   "cell_type": "markdown",
   "metadata": {},
   "source": [
    "# **Structured Query Language (SQL)**\n",
    "Language that allows you to write data queries\n",
    "- Retrieving data, joining data, deleting data\n",
    "\n",
    "Relational database:\n",
    "- supports SQL language\n",
    "- Has a clear schema\n",
    "- Has relations\n",
    "- Data is distributed across multiple tables\n",
    "- Scaling: Horizontal scaling is difficult/impossible, Vertical scaling is possible\n",
    "- Limitations for lots of (thousands) read and write queries per second.\n",
    "\n",
    "**Horizontal Scaling** - Add more servers (and merge Data into one Database)\n",
    "**Vertical Scaling** - Adding more computing power to the existing. Vertical scaling has limits\n",
    "\n",
    "**Types of Relations:**\n",
    "- many-to-many\n",
    "- one-to-one\n",
    "- one-to-many"
   ]
  },
  {
   "cell_type": "markdown",
   "metadata": {},
   "source": [
    "# **NoSQL**\n",
    "\n",
    "**MongoDB** - stores lots of data\n",
    "\n",
    "Database > Collections > Documents\n",
    "- Has no schema\n",
    "- There are no relations\n",
    "- Both horizontal and vertical scaling is possible.\n",
    "- Data is typically merged/nested in a few collections\n",
    "Great performance for mass (simple) read & write requests"
   ]
  },
  {
   "cell_type": "markdown",
   "metadata": {},
   "source": []
  },
  {
   "cell_type": "markdown",
   "metadata": {},
   "source": []
  },
  {
   "cell_type": "markdown",
   "metadata": {},
   "source": []
  },
  {
   "cell_type": "markdown",
   "metadata": {},
   "source": []
  }
 ],
 "metadata": {
  "interpreter": {
   "hash": "4b49dac480128e3353893aae5d79bc0c223b3b150e1bd621885640ef2984f829"
  },
  "kernelspec": {
   "display_name": "Python 3.8.2 64-bit",
   "name": "python3"
  },
  "language_info": {
   "name": "python",
   "version": "3.8.2"
  },
  "orig_nbformat": 4
 },
 "nbformat": 4,
 "nbformat_minor": 2
}
